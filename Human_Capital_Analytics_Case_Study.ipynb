{
 "cells": [
  {
   "cell_type": "markdown",
   "metadata": {},
   "source": [
    "# Human Capital Analytics and Reporting Case Study"
   ]
  },
  {
   "cell_type": "code",
   "execution_count": 1,
   "metadata": {},
   "outputs": [],
   "source": [
    "# Import packages \n",
    "import pandas as pd\n",
    "import numpy as np\n",
    "\n",
    "from sklearn.model_selection import train_test_split\n",
    "from sklearn.linear_model import LinearRegression\n",
    "import statsmodels.api as sm\n",
    "from datetime import datetime, date\n",
    "\n",
    "import warnings\n",
    "warnings.filterwarnings(\"ignore\")\n",
    "\n",
    "%matplotlib inline"
   ]
  },
  {
   "cell_type": "code",
   "execution_count": 2,
   "metadata": {},
   "outputs": [],
   "source": [
    "# Set display options\n",
    "pd.set_option('display.max_rows', 150)\n",
    "pd.set_option('display.max_columns', 50)"
   ]
  },
  {
   "cell_type": "code",
   "execution_count": 3,
   "metadata": {},
   "outputs": [],
   "source": [
    "# Read in the data and reate dataframe variables \n",
    "ra = pd.read_csv('Case_Study_HCAR_Research_2019_Recruiting_Activity_Data.csv')    # Recruiting Activity Dataframe\n",
    "os = pd.read_csv('Case_Study_HCAR_Research_2019_Offer_Status_Data.csv')           # Offer Status Dataframe"
   ]
  },
  {
   "cell_type": "code",
   "execution_count": 4,
   "metadata": {},
   "outputs": [
    {
     "name": "stdout",
     "output_type": "stream",
     "text": [
      "(4972, 9)\n",
      "\n",
      "(125, 3)\n"
     ]
    }
   ],
   "source": [
    "'''\n",
    "Check the dimensions of the datasets\n",
    "Output is in the form (rows, columns)\n",
    "'''\n",
    "print(ra.shape)\n",
    "print('')\n",
    "print(os.shape)"
   ]
  },
  {
   "cell_type": "markdown",
   "metadata": {},
   "source": [
    "## Data Cleaning, Manipulation & Analysis - Recruiting Activity Dataframe"
   ]
  },
  {
   "cell_type": "code",
   "execution_count": 5,
   "metadata": {
    "scrolled": true
   },
   "outputs": [
    {
     "name": "stdout",
     "output_type": "stream",
     "text": [
      "<class 'pandas.core.frame.DataFrame'>\n",
      "RangeIndex: 4972 entries, 0 to 4971\n",
      "Data columns (total 9 columns):\n",
      "Candidate ID Number                  4959 non-null float64\n",
      "Position Title                       4959 non-null object\n",
      "Department                           4959 non-null object\n",
      "Furthest Recruiting Stage Reached    4959 non-null object\n",
      "Date of Application                  4959 non-null object\n",
      "Application Source                   4959 non-null object\n",
      "Highest Degree                       4959 non-null object\n",
      "Years of Experience                  4959 non-null float64\n",
      "Candidate Type                       4959 non-null object\n",
      "dtypes: float64(2), object(7)\n",
      "memory usage: 349.7+ KB\n"
     ]
    }
   ],
   "source": [
    "# Print information on the Recruiting Activity dataset\n",
    "ra.info()"
   ]
  },
  {
   "cell_type": "markdown",
   "metadata": {},
   "source": [
    "**There are null values in the dataset because the number of entries in each column doesn't match the total number of entries in the RangeIndex.**"
   ]
  },
  {
   "cell_type": "code",
   "execution_count": 6,
   "metadata": {},
   "outputs": [
    {
     "data": {
      "text/plain": [
       "Candidate ID Number                  13\n",
       "Position Title                       13\n",
       "Department                           13\n",
       "Furthest Recruiting Stage Reached    13\n",
       "Date of Application                  13\n",
       "Application Source                   13\n",
       "Highest Degree                       13\n",
       "Years of Experience                  13\n",
       "Candidate Type                       13\n",
       "dtype: int64"
      ]
     },
     "execution_count": 6,
     "metadata": {},
     "output_type": "execute_result"
    }
   ],
   "source": [
    "# Check for null values\n",
    "ra.isna().sum()"
   ]
  },
  {
   "cell_type": "markdown",
   "metadata": {},
   "source": [
    "**There are 13 null values in each column.**"
   ]
  },
  {
   "cell_type": "code",
   "execution_count": 7,
   "metadata": {},
   "outputs": [
    {
     "data": {
      "text/html": [
       "<div>\n",
       "<style scoped>\n",
       "    .dataframe tbody tr th:only-of-type {\n",
       "        vertical-align: middle;\n",
       "    }\n",
       "\n",
       "    .dataframe tbody tr th {\n",
       "        vertical-align: top;\n",
       "    }\n",
       "\n",
       "    .dataframe thead th {\n",
       "        text-align: right;\n",
       "    }\n",
       "</style>\n",
       "<table border=\"1\" class=\"dataframe\">\n",
       "  <thead>\n",
       "    <tr style=\"text-align: right;\">\n",
       "      <th></th>\n",
       "      <th>Candidate ID Number</th>\n",
       "      <th>Position Title</th>\n",
       "      <th>Department</th>\n",
       "      <th>Furthest Recruiting Stage Reached</th>\n",
       "      <th>Date of Application</th>\n",
       "      <th>Application Source</th>\n",
       "      <th>Highest Degree</th>\n",
       "      <th>Years of Experience</th>\n",
       "      <th>Candidate Type</th>\n",
       "    </tr>\n",
       "  </thead>\n",
       "  <tbody>\n",
       "    <tr>\n",
       "      <th>4959</th>\n",
       "      <td>NaN</td>\n",
       "      <td>NaN</td>\n",
       "      <td>NaN</td>\n",
       "      <td>NaN</td>\n",
       "      <td>NaN</td>\n",
       "      <td>NaN</td>\n",
       "      <td>NaN</td>\n",
       "      <td>NaN</td>\n",
       "      <td>NaN</td>\n",
       "    </tr>\n",
       "    <tr>\n",
       "      <th>4960</th>\n",
       "      <td>NaN</td>\n",
       "      <td>NaN</td>\n",
       "      <td>NaN</td>\n",
       "      <td>NaN</td>\n",
       "      <td>NaN</td>\n",
       "      <td>NaN</td>\n",
       "      <td>NaN</td>\n",
       "      <td>NaN</td>\n",
       "      <td>NaN</td>\n",
       "    </tr>\n",
       "    <tr>\n",
       "      <th>4961</th>\n",
       "      <td>NaN</td>\n",
       "      <td>NaN</td>\n",
       "      <td>NaN</td>\n",
       "      <td>NaN</td>\n",
       "      <td>NaN</td>\n",
       "      <td>NaN</td>\n",
       "      <td>NaN</td>\n",
       "      <td>NaN</td>\n",
       "      <td>NaN</td>\n",
       "    </tr>\n",
       "    <tr>\n",
       "      <th>4962</th>\n",
       "      <td>NaN</td>\n",
       "      <td>NaN</td>\n",
       "      <td>NaN</td>\n",
       "      <td>NaN</td>\n",
       "      <td>NaN</td>\n",
       "      <td>NaN</td>\n",
       "      <td>NaN</td>\n",
       "      <td>NaN</td>\n",
       "      <td>NaN</td>\n",
       "    </tr>\n",
       "    <tr>\n",
       "      <th>4963</th>\n",
       "      <td>NaN</td>\n",
       "      <td>NaN</td>\n",
       "      <td>NaN</td>\n",
       "      <td>NaN</td>\n",
       "      <td>NaN</td>\n",
       "      <td>NaN</td>\n",
       "      <td>NaN</td>\n",
       "      <td>NaN</td>\n",
       "      <td>NaN</td>\n",
       "    </tr>\n",
       "    <tr>\n",
       "      <th>4964</th>\n",
       "      <td>NaN</td>\n",
       "      <td>NaN</td>\n",
       "      <td>NaN</td>\n",
       "      <td>NaN</td>\n",
       "      <td>NaN</td>\n",
       "      <td>NaN</td>\n",
       "      <td>NaN</td>\n",
       "      <td>NaN</td>\n",
       "      <td>NaN</td>\n",
       "    </tr>\n",
       "    <tr>\n",
       "      <th>4965</th>\n",
       "      <td>NaN</td>\n",
       "      <td>NaN</td>\n",
       "      <td>NaN</td>\n",
       "      <td>NaN</td>\n",
       "      <td>NaN</td>\n",
       "      <td>NaN</td>\n",
       "      <td>NaN</td>\n",
       "      <td>NaN</td>\n",
       "      <td>NaN</td>\n",
       "    </tr>\n",
       "    <tr>\n",
       "      <th>4966</th>\n",
       "      <td>NaN</td>\n",
       "      <td>NaN</td>\n",
       "      <td>NaN</td>\n",
       "      <td>NaN</td>\n",
       "      <td>NaN</td>\n",
       "      <td>NaN</td>\n",
       "      <td>NaN</td>\n",
       "      <td>NaN</td>\n",
       "      <td>NaN</td>\n",
       "    </tr>\n",
       "    <tr>\n",
       "      <th>4967</th>\n",
       "      <td>NaN</td>\n",
       "      <td>NaN</td>\n",
       "      <td>NaN</td>\n",
       "      <td>NaN</td>\n",
       "      <td>NaN</td>\n",
       "      <td>NaN</td>\n",
       "      <td>NaN</td>\n",
       "      <td>NaN</td>\n",
       "      <td>NaN</td>\n",
       "    </tr>\n",
       "    <tr>\n",
       "      <th>4968</th>\n",
       "      <td>NaN</td>\n",
       "      <td>NaN</td>\n",
       "      <td>NaN</td>\n",
       "      <td>NaN</td>\n",
       "      <td>NaN</td>\n",
       "      <td>NaN</td>\n",
       "      <td>NaN</td>\n",
       "      <td>NaN</td>\n",
       "      <td>NaN</td>\n",
       "    </tr>\n",
       "    <tr>\n",
       "      <th>4969</th>\n",
       "      <td>NaN</td>\n",
       "      <td>NaN</td>\n",
       "      <td>NaN</td>\n",
       "      <td>NaN</td>\n",
       "      <td>NaN</td>\n",
       "      <td>NaN</td>\n",
       "      <td>NaN</td>\n",
       "      <td>NaN</td>\n",
       "      <td>NaN</td>\n",
       "    </tr>\n",
       "    <tr>\n",
       "      <th>4970</th>\n",
       "      <td>NaN</td>\n",
       "      <td>NaN</td>\n",
       "      <td>NaN</td>\n",
       "      <td>NaN</td>\n",
       "      <td>NaN</td>\n",
       "      <td>NaN</td>\n",
       "      <td>NaN</td>\n",
       "      <td>NaN</td>\n",
       "      <td>NaN</td>\n",
       "    </tr>\n",
       "    <tr>\n",
       "      <th>4971</th>\n",
       "      <td>NaN</td>\n",
       "      <td>NaN</td>\n",
       "      <td>NaN</td>\n",
       "      <td>NaN</td>\n",
       "      <td>NaN</td>\n",
       "      <td>NaN</td>\n",
       "      <td>NaN</td>\n",
       "      <td>NaN</td>\n",
       "      <td>NaN</td>\n",
       "    </tr>\n",
       "  </tbody>\n",
       "</table>\n",
       "</div>"
      ],
      "text/plain": [
       "      Candidate ID Number Position Title Department  \\\n",
       "4959                  NaN            NaN        NaN   \n",
       "4960                  NaN            NaN        NaN   \n",
       "4961                  NaN            NaN        NaN   \n",
       "4962                  NaN            NaN        NaN   \n",
       "4963                  NaN            NaN        NaN   \n",
       "4964                  NaN            NaN        NaN   \n",
       "4965                  NaN            NaN        NaN   \n",
       "4966                  NaN            NaN        NaN   \n",
       "4967                  NaN            NaN        NaN   \n",
       "4968                  NaN            NaN        NaN   \n",
       "4969                  NaN            NaN        NaN   \n",
       "4970                  NaN            NaN        NaN   \n",
       "4971                  NaN            NaN        NaN   \n",
       "\n",
       "     Furthest Recruiting Stage Reached Date of Application Application Source  \\\n",
       "4959                               NaN                 NaN                NaN   \n",
       "4960                               NaN                 NaN                NaN   \n",
       "4961                               NaN                 NaN                NaN   \n",
       "4962                               NaN                 NaN                NaN   \n",
       "4963                               NaN                 NaN                NaN   \n",
       "4964                               NaN                 NaN                NaN   \n",
       "4965                               NaN                 NaN                NaN   \n",
       "4966                               NaN                 NaN                NaN   \n",
       "4967                               NaN                 NaN                NaN   \n",
       "4968                               NaN                 NaN                NaN   \n",
       "4969                               NaN                 NaN                NaN   \n",
       "4970                               NaN                 NaN                NaN   \n",
       "4971                               NaN                 NaN                NaN   \n",
       "\n",
       "     Highest Degree  Years of Experience Candidate Type  \n",
       "4959            NaN                  NaN            NaN  \n",
       "4960            NaN                  NaN            NaN  \n",
       "4961            NaN                  NaN            NaN  \n",
       "4962            NaN                  NaN            NaN  \n",
       "4963            NaN                  NaN            NaN  \n",
       "4964            NaN                  NaN            NaN  \n",
       "4965            NaN                  NaN            NaN  \n",
       "4966            NaN                  NaN            NaN  \n",
       "4967            NaN                  NaN            NaN  \n",
       "4968            NaN                  NaN            NaN  \n",
       "4969            NaN                  NaN            NaN  \n",
       "4970            NaN                  NaN            NaN  \n",
       "4971            NaN                  NaN            NaN  "
      ]
     },
     "execution_count": 7,
     "metadata": {},
     "output_type": "execute_result"
    }
   ],
   "source": [
    "# Filter dataframe for all null values to examine them and determine what should be done with them\n",
    "ra[ra.isna().any(axis=1)]"
   ]
  },
  {
   "cell_type": "markdown",
   "metadata": {},
   "source": [
    "**Since the rows with null values dont contain any information they will be dropped from the dataframe.**"
   ]
  },
  {
   "cell_type": "code",
   "execution_count": 8,
   "metadata": {},
   "outputs": [],
   "source": [
    "# Drop null values\n",
    "ra.dropna(inplace=True)"
   ]
  },
  {
   "cell_type": "code",
   "execution_count": 9,
   "metadata": {},
   "outputs": [
    {
     "data": {
      "text/plain": [
       "0"
      ]
     },
     "execution_count": 9,
     "metadata": {},
     "output_type": "execute_result"
    }
   ],
   "source": [
    "# Check to see if all null values have been dropped\n",
    "ra.isna().sum().sum()"
   ]
  },
  {
   "cell_type": "code",
   "execution_count": 10,
   "metadata": {},
   "outputs": [
    {
     "name": "stdout",
     "output_type": "stream",
     "text": [
      "['Associate Software Developer' 'Associate Relationship Manager'\n",
      " 'Associate Product Manager' 'Finance Manager' 'Operations Coordinator'\n",
      " 'Business Operations Manager' 'Sr. Business Analyst'\n",
      " 'Sr. Product Manager' 'IT Analyst' 'Sr. Software Engineer'\n",
      " 'Sr. Customer Service Operations Associate' 'UX Designer'\n",
      " 'Financial Analyst' 'Account Executive' 'Operations Generalist']\n",
      "['Engineering' 'Sales' 'Product' 'Finance' 'Operations' 'IT']\n",
      "['Offer Sent' 'New Application' 'In-House Interview' 'Phone Screen']\n",
      "['Campus Job Board' 'Campus Event' 'Advertisement' 'Career Fair' 'Website'\n",
      " 'Agency' 'Outsourced' 'Internal Referral']\n",
      "['PhD' 'Masters' 'Bachelors' 'JD' 'Phd']\n",
      "[ 2.  0.  1.  3.  5.  7.  4. 15.  6. 13.  8. 10. 14. 12. 11.  9.]\n",
      "['Campus' 'Experienced']\n"
     ]
    },
    {
     "data": {
      "text/plain": [
       "[None, None, None, None, None, None, None]"
      ]
     },
     "execution_count": 10,
     "metadata": {},
     "output_type": "execute_result"
    }
   ],
   "source": [
    "# Analyze all columns except Candidate ID Number and Date of Application to see unique values in each column \n",
    "[print(ra[i].unique()) for i in ra.columns.drop(['Candidate ID Number', 'Date of Application'])]"
   ]
  },
  {
   "cell_type": "markdown",
   "metadata": {},
   "source": [
    "**In the highest degree column, there are 2 labels for PhD degrees. All values will be changed to `PhD` for consistency.**"
   ]
  },
  {
   "cell_type": "code",
   "execution_count": 11,
   "metadata": {},
   "outputs": [],
   "source": [
    "# Change all values that are `Phd` into `PhD` \n",
    "ra.loc[ra['Highest Degree'] == 'Phd', 'Highest Degree'] = 'PhD'"
   ]
  },
  {
   "cell_type": "code",
   "execution_count": 12,
   "metadata": {},
   "outputs": [
    {
     "data": {
      "text/plain": [
       "Bachelors    2835\n",
       "Masters      1208\n",
       "PhD           909\n",
       "JD              7\n",
       "Name: Highest Degree, dtype: int64"
      ]
     },
     "execution_count": 12,
     "metadata": {},
     "output_type": "execute_result"
    }
   ],
   "source": [
    "# The change was successful\n",
    "ra['Highest Degree'].value_counts()"
   ]
  },
  {
   "cell_type": "code",
   "execution_count": 13,
   "metadata": {},
   "outputs": [
    {
     "name": "stdout",
     "output_type": "stream",
     "text": [
      "Engineering    2113\n",
      "Sales          1491\n",
      "Product         710\n",
      "Operations      289\n",
      "Finance         197\n",
      "IT              159\n",
      "Name: Department, dtype: int64\n",
      "--------\n",
      "New Application       3364\n",
      "Phone Screen           780\n",
      "In-House Interview     691\n",
      "Offer Sent             124\n",
      "Name: Furthest Recruiting Stage Reached, dtype: int64\n",
      "--------\n",
      "Campus Job Board     1751\n",
      "Career Fair          1044\n",
      "Campus Event          623\n",
      "Website               612\n",
      "Advertisement         502\n",
      "Agency                268\n",
      "Outsourced            114\n",
      "Internal Referral      45\n",
      "Name: Application Source, dtype: int64\n",
      "--------\n",
      "Bachelors    2835\n",
      "Masters      1208\n",
      "PhD           909\n",
      "JD              7\n",
      "Name: Highest Degree, dtype: int64\n",
      "--------\n",
      "Campus         4131\n",
      "Experienced     828\n",
      "Name: Candidate Type, dtype: int64\n"
     ]
    }
   ],
   "source": [
    "# Check counts of all values in categorical columns \n",
    "print(ra['Department'].value_counts())\n",
    "print('--------')\n",
    "print(ra['Furthest Recruiting Stage Reached'].value_counts())\n",
    "print('--------')\n",
    "print(ra['Application Source'].value_counts())\n",
    "print('--------')\n",
    "print(ra['Highest Degree'].value_counts())\n",
    "print('--------')\n",
    "print(ra['Candidate Type'].value_counts())"
   ]
  },
  {
   "cell_type": "code",
   "execution_count": 14,
   "metadata": {},
   "outputs": [],
   "source": [
    "# Function to change all categorical columns into numeric \n",
    "def to_numeric(df, col):\n",
    "    df[col] = df[col].astype('category').cat.codes"
   ]
  },
  {
   "cell_type": "code",
   "execution_count": 15,
   "metadata": {},
   "outputs": [],
   "source": [
    "# Apply function to categorical columns\n",
    "to_numeric(df=ra, col='Department')\n",
    "to_numeric(df=ra, col='Furthest Recruiting Stage Reached')\n",
    "to_numeric(df=ra, col='Application Source')\n",
    "to_numeric(df=ra, col='Highest Degree')\n",
    "to_numeric(df=ra, col='Candidate Type')"
   ]
  },
  {
   "cell_type": "code",
   "execution_count": 16,
   "metadata": {},
   "outputs": [
    {
     "data": {
      "text/html": [
       "<div>\n",
       "<style scoped>\n",
       "    .dataframe tbody tr th:only-of-type {\n",
       "        vertical-align: middle;\n",
       "    }\n",
       "\n",
       "    .dataframe tbody tr th {\n",
       "        vertical-align: top;\n",
       "    }\n",
       "\n",
       "    .dataframe thead th {\n",
       "        text-align: right;\n",
       "    }\n",
       "</style>\n",
       "<table border=\"1\" class=\"dataframe\">\n",
       "  <thead>\n",
       "    <tr style=\"text-align: right;\">\n",
       "      <th></th>\n",
       "      <th>Candidate ID Number</th>\n",
       "      <th>Position Title</th>\n",
       "      <th>Department</th>\n",
       "      <th>Furthest Recruiting Stage Reached</th>\n",
       "      <th>Date of Application</th>\n",
       "      <th>Application Source</th>\n",
       "      <th>Highest Degree</th>\n",
       "      <th>Years of Experience</th>\n",
       "      <th>Candidate Type</th>\n",
       "    </tr>\n",
       "  </thead>\n",
       "  <tbody>\n",
       "    <tr>\n",
       "      <th>0</th>\n",
       "      <td>2468.0</td>\n",
       "      <td>Associate Software Developer</td>\n",
       "      <td>0</td>\n",
       "      <td>2</td>\n",
       "      <td>11/1/18</td>\n",
       "      <td>3</td>\n",
       "      <td>3</td>\n",
       "      <td>2.0</td>\n",
       "      <td>0</td>\n",
       "    </tr>\n",
       "    <tr>\n",
       "      <th>1</th>\n",
       "      <td>2471.0</td>\n",
       "      <td>Associate Relationship Manager</td>\n",
       "      <td>5</td>\n",
       "      <td>2</td>\n",
       "      <td>12/13/18</td>\n",
       "      <td>2</td>\n",
       "      <td>2</td>\n",
       "      <td>0.0</td>\n",
       "      <td>0</td>\n",
       "    </tr>\n",
       "    <tr>\n",
       "      <th>2</th>\n",
       "      <td>2475.0</td>\n",
       "      <td>Associate Software Developer</td>\n",
       "      <td>0</td>\n",
       "      <td>2</td>\n",
       "      <td>12/21/18</td>\n",
       "      <td>0</td>\n",
       "      <td>2</td>\n",
       "      <td>0.0</td>\n",
       "      <td>0</td>\n",
       "    </tr>\n",
       "    <tr>\n",
       "      <th>3</th>\n",
       "      <td>2480.0</td>\n",
       "      <td>Associate Relationship Manager</td>\n",
       "      <td>5</td>\n",
       "      <td>2</td>\n",
       "      <td>12/25/18</td>\n",
       "      <td>2</td>\n",
       "      <td>2</td>\n",
       "      <td>0.0</td>\n",
       "      <td>0</td>\n",
       "    </tr>\n",
       "    <tr>\n",
       "      <th>4</th>\n",
       "      <td>2486.0</td>\n",
       "      <td>Associate Relationship Manager</td>\n",
       "      <td>5</td>\n",
       "      <td>2</td>\n",
       "      <td>12/6/18</td>\n",
       "      <td>2</td>\n",
       "      <td>2</td>\n",
       "      <td>1.0</td>\n",
       "      <td>0</td>\n",
       "    </tr>\n",
       "  </tbody>\n",
       "</table>\n",
       "</div>"
      ],
      "text/plain": [
       "   Candidate ID Number                  Position Title  Department  \\\n",
       "0               2468.0    Associate Software Developer           0   \n",
       "1               2471.0  Associate Relationship Manager           5   \n",
       "2               2475.0    Associate Software Developer           0   \n",
       "3               2480.0  Associate Relationship Manager           5   \n",
       "4               2486.0  Associate Relationship Manager           5   \n",
       "\n",
       "   Furthest Recruiting Stage Reached Date of Application  Application Source  \\\n",
       "0                                  2             11/1/18                   3   \n",
       "1                                  2            12/13/18                   2   \n",
       "2                                  2            12/21/18                   0   \n",
       "3                                  2            12/25/18                   2   \n",
       "4                                  2             12/6/18                   2   \n",
       "\n",
       "   Highest Degree  Years of Experience  Candidate Type  \n",
       "0               3                  2.0               0  \n",
       "1               2                  0.0               0  \n",
       "2               2                  0.0               0  \n",
       "3               2                  0.0               0  \n",
       "4               2                  1.0               0  "
      ]
     },
     "execution_count": 16,
     "metadata": {},
     "output_type": "execute_result"
    }
   ],
   "source": [
    "# Check to see that the change was successful\n",
    "ra.head()"
   ]
  },
  {
   "cell_type": "code",
   "execution_count": 17,
   "metadata": {},
   "outputs": [],
   "source": [
    "'''\n",
    "Dictionary to use as reference.\n",
    "Numbers were automatically assigned in alphabetical order.\n",
    "'''\n",
    "\n",
    "department_dict = {0: 'Engineering', 1: 'Finanace', 2: 'IT', 3: 'Operations', 4: 'Product', 5: 'Sales'}\n",
    "\n",
    "recruiting_stage_dict = {0: 'In-House Interview', 1: 'New Application', 2: 'Offer Sent', 3: 'Phone Screen'}\n",
    "\n",
    "app_source_dict = {0: 'Advertisement', 1: 'Agency', 2: 'Campus Event', 3: 'Campus Job Board', 4: 'Career Fair',\n",
    "                  5: 'Internal Referral', 6: 'Outsourced', 7: 'Website'}\n",
    "\n",
    "highest_degree_dict = {0: 'Bachelors', 1: 'JD', 2: 'Masters', 3: 'PhD'}\n",
    "\n",
    "candidate_type_dict = {0: 'Campus', 1: 'Experienced'}"
   ]
  },
  {
   "cell_type": "code",
   "execution_count": 18,
   "metadata": {
    "scrolled": true
   },
   "outputs": [],
   "source": [
    "# Change datatypes of Candidate ID Number and Years of Experience to integers\n",
    "ra[['Candidate ID Number', 'Years of Experience']] = ra[['Candidate ID Number', 'Years of Experience']].applymap(np.int64)"
   ]
  },
  {
   "cell_type": "code",
   "execution_count": 19,
   "metadata": {},
   "outputs": [
    {
     "name": "stdout",
     "output_type": "stream",
     "text": [
      "<class 'pandas.core.frame.DataFrame'>\n",
      "Int64Index: 4959 entries, 0 to 4958\n",
      "Data columns (total 9 columns):\n",
      "Candidate ID Number                  4959 non-null int64\n",
      "Position Title                       4959 non-null object\n",
      "Department                           4959 non-null int8\n",
      "Furthest Recruiting Stage Reached    4959 non-null int8\n",
      "Date of Application                  4959 non-null object\n",
      "Application Source                   4959 non-null int8\n",
      "Highest Degree                       4959 non-null int8\n",
      "Years of Experience                  4959 non-null int64\n",
      "Candidate Type                       4959 non-null int8\n",
      "dtypes: int64(2), int8(5), object(2)\n",
      "memory usage: 217.9+ KB\n"
     ]
    }
   ],
   "source": [
    "'''\n",
    "Now all columns are their appropriate datatypes.\n",
    "This is important for modeling.\n",
    "'''\n",
    "ra.info()"
   ]
  },
  {
   "cell_type": "code",
   "execution_count": 20,
   "metadata": {},
   "outputs": [
    {
     "data": {
      "text/html": [
       "<div>\n",
       "<style scoped>\n",
       "    .dataframe tbody tr th:only-of-type {\n",
       "        vertical-align: middle;\n",
       "    }\n",
       "\n",
       "    .dataframe tbody tr th {\n",
       "        vertical-align: top;\n",
       "    }\n",
       "\n",
       "    .dataframe thead th {\n",
       "        text-align: right;\n",
       "    }\n",
       "</style>\n",
       "<table border=\"1\" class=\"dataframe\">\n",
       "  <thead>\n",
       "    <tr style=\"text-align: right;\">\n",
       "      <th></th>\n",
       "      <th>Candidate ID Number</th>\n",
       "      <th>Position Title</th>\n",
       "      <th>Department</th>\n",
       "      <th>Furthest Recruiting Stage Reached</th>\n",
       "      <th>Date of Application</th>\n",
       "      <th>Application Source</th>\n",
       "      <th>Highest Degree</th>\n",
       "      <th>Years of Experience</th>\n",
       "      <th>Candidate Type</th>\n",
       "    </tr>\n",
       "  </thead>\n",
       "  <tbody>\n",
       "  </tbody>\n",
       "</table>\n",
       "</div>"
      ],
      "text/plain": [
       "Empty DataFrame\n",
       "Columns: [Candidate ID Number, Position Title, Department, Furthest Recruiting Stage Reached, Date of Application, Application Source, Highest Degree, Years of Experience, Candidate Type]\n",
       "Index: []"
      ]
     },
     "execution_count": 20,
     "metadata": {},
     "output_type": "execute_result"
    }
   ],
   "source": [
    "# Check for any duplicated rows\n",
    "ra[ra.duplicated()]"
   ]
  },
  {
   "cell_type": "markdown",
   "metadata": {},
   "source": [
    "**There are no duplicates of data.**"
   ]
  },
  {
   "cell_type": "markdown",
   "metadata": {},
   "source": [
    "## Data Cleaning, Manipulation & Analysis - Offer Status DataFrame"
   ]
  },
  {
   "cell_type": "code",
   "execution_count": 21,
   "metadata": {},
   "outputs": [
    {
     "name": "stdout",
     "output_type": "stream",
     "text": [
      "<class 'pandas.core.frame.DataFrame'>\n",
      "RangeIndex: 125 entries, 0 to 124\n",
      "Data columns (total 3 columns):\n",
      "Candidate ID Number    125 non-null int64\n",
      "Offer Date             125 non-null object\n",
      "Offer Decision         125 non-null object\n",
      "dtypes: int64(1), object(2)\n",
      "memory usage: 3.0+ KB\n"
     ]
    }
   ],
   "source": [
    "# Print information on the Offer Status dataset\n",
    "os.info()"
   ]
  },
  {
   "cell_type": "markdown",
   "metadata": {},
   "source": [
    "**There are no null values in this dataset.**"
   ]
  },
  {
   "cell_type": "code",
   "execution_count": 22,
   "metadata": {},
   "outputs": [
    {
     "data": {
      "text/html": [
       "<div>\n",
       "<style scoped>\n",
       "    .dataframe tbody tr th:only-of-type {\n",
       "        vertical-align: middle;\n",
       "    }\n",
       "\n",
       "    .dataframe tbody tr th {\n",
       "        vertical-align: top;\n",
       "    }\n",
       "\n",
       "    .dataframe thead th {\n",
       "        text-align: right;\n",
       "    }\n",
       "</style>\n",
       "<table border=\"1\" class=\"dataframe\">\n",
       "  <thead>\n",
       "    <tr style=\"text-align: right;\">\n",
       "      <th></th>\n",
       "      <th>Candidate ID Number</th>\n",
       "      <th>Offer Date</th>\n",
       "      <th>Offer Decision</th>\n",
       "    </tr>\n",
       "  </thead>\n",
       "  <tbody>\n",
       "    <tr>\n",
       "      <th>0</th>\n",
       "      <td>21031</td>\n",
       "      <td>11/15/16</td>\n",
       "      <td>Offer Accepted</td>\n",
       "    </tr>\n",
       "    <tr>\n",
       "      <th>1</th>\n",
       "      <td>26414</td>\n",
       "      <td>3/20/18</td>\n",
       "      <td>Offer Accepted</td>\n",
       "    </tr>\n",
       "    <tr>\n",
       "      <th>2</th>\n",
       "      <td>98318</td>\n",
       "      <td>2/27/17</td>\n",
       "      <td>Offer Accepted</td>\n",
       "    </tr>\n",
       "    <tr>\n",
       "      <th>3</th>\n",
       "      <td>35377</td>\n",
       "      <td>3/6/18</td>\n",
       "      <td>Offer Accepted</td>\n",
       "    </tr>\n",
       "    <tr>\n",
       "      <th>4</th>\n",
       "      <td>72131</td>\n",
       "      <td>11/28/17</td>\n",
       "      <td>Offer Accepted</td>\n",
       "    </tr>\n",
       "  </tbody>\n",
       "</table>\n",
       "</div>"
      ],
      "text/plain": [
       "   Candidate ID Number Offer Date  Offer Decision\n",
       "0                21031   11/15/16  Offer Accepted\n",
       "1                26414    3/20/18  Offer Accepted\n",
       "2                98318    2/27/17  Offer Accepted\n",
       "3                35377     3/6/18  Offer Accepted\n",
       "4                72131   11/28/17  Offer Accepted"
      ]
     },
     "execution_count": 22,
     "metadata": {},
     "output_type": "execute_result"
    }
   ],
   "source": [
    "# See what the data looks like\n",
    "os.head()"
   ]
  },
  {
   "cell_type": "code",
   "execution_count": 23,
   "metadata": {},
   "outputs": [
    {
     "data": {
      "text/plain": [
       "Offer Accepted            68\n",
       "Offer Declined            45\n",
       "Offer Response Pending    12\n",
       "Name: Offer Decision, dtype: int64"
      ]
     },
     "execution_count": 23,
     "metadata": {},
     "output_type": "execute_result"
    }
   ],
   "source": [
    "# Check the number of each offer accepted, declined, or pending response \n",
    "os['Offer Decision'].value_counts()"
   ]
  },
  {
   "cell_type": "code",
   "execution_count": 24,
   "metadata": {},
   "outputs": [
    {
     "data": {
      "text/html": [
       "<div>\n",
       "<style scoped>\n",
       "    .dataframe tbody tr th:only-of-type {\n",
       "        vertical-align: middle;\n",
       "    }\n",
       "\n",
       "    .dataframe tbody tr th {\n",
       "        vertical-align: top;\n",
       "    }\n",
       "\n",
       "    .dataframe thead th {\n",
       "        text-align: right;\n",
       "    }\n",
       "</style>\n",
       "<table border=\"1\" class=\"dataframe\">\n",
       "  <thead>\n",
       "    <tr style=\"text-align: right;\">\n",
       "      <th></th>\n",
       "      <th>Candidate ID Number</th>\n",
       "      <th>Offer Date</th>\n",
       "      <th>Offer Decision</th>\n",
       "    </tr>\n",
       "  </thead>\n",
       "  <tbody>\n",
       "    <tr>\n",
       "      <th>113</th>\n",
       "      <td>2520</td>\n",
       "      <td>1/5/19</td>\n",
       "      <td>Offer Response Pending</td>\n",
       "    </tr>\n",
       "    <tr>\n",
       "      <th>114</th>\n",
       "      <td>2471</td>\n",
       "      <td>1/31/19</td>\n",
       "      <td>Offer Response Pending</td>\n",
       "    </tr>\n",
       "    <tr>\n",
       "      <th>115</th>\n",
       "      <td>2501</td>\n",
       "      <td>1/26/19</td>\n",
       "      <td>Offer Response Pending</td>\n",
       "    </tr>\n",
       "    <tr>\n",
       "      <th>116</th>\n",
       "      <td>2531</td>\n",
       "      <td>2/15/19</td>\n",
       "      <td>Offer Response Pending</td>\n",
       "    </tr>\n",
       "    <tr>\n",
       "      <th>117</th>\n",
       "      <td>2493</td>\n",
       "      <td>1/26/19</td>\n",
       "      <td>Offer Response Pending</td>\n",
       "    </tr>\n",
       "    <tr>\n",
       "      <th>118</th>\n",
       "      <td>2543</td>\n",
       "      <td>2/6/19</td>\n",
       "      <td>Offer Response Pending</td>\n",
       "    </tr>\n",
       "    <tr>\n",
       "      <th>119</th>\n",
       "      <td>2556</td>\n",
       "      <td>12/28/18</td>\n",
       "      <td>Offer Response Pending</td>\n",
       "    </tr>\n",
       "    <tr>\n",
       "      <th>120</th>\n",
       "      <td>2475</td>\n",
       "      <td>2/5/19</td>\n",
       "      <td>Offer Response Pending</td>\n",
       "    </tr>\n",
       "    <tr>\n",
       "      <th>121</th>\n",
       "      <td>2480</td>\n",
       "      <td>2/9/19</td>\n",
       "      <td>Offer Response Pending</td>\n",
       "    </tr>\n",
       "    <tr>\n",
       "      <th>122</th>\n",
       "      <td>2486</td>\n",
       "      <td>1/17/19</td>\n",
       "      <td>Offer Response Pending</td>\n",
       "    </tr>\n",
       "    <tr>\n",
       "      <th>123</th>\n",
       "      <td>2468</td>\n",
       "      <td>12/15/18</td>\n",
       "      <td>Offer Response Pending</td>\n",
       "    </tr>\n",
       "    <tr>\n",
       "      <th>124</th>\n",
       "      <td>2510</td>\n",
       "      <td>1/28/19</td>\n",
       "      <td>Offer Response Pending</td>\n",
       "    </tr>\n",
       "  </tbody>\n",
       "</table>\n",
       "</div>"
      ],
      "text/plain": [
       "     Candidate ID Number Offer Date          Offer Decision\n",
       "113                 2520     1/5/19  Offer Response Pending\n",
       "114                 2471    1/31/19  Offer Response Pending\n",
       "115                 2501    1/26/19  Offer Response Pending\n",
       "116                 2531    2/15/19  Offer Response Pending\n",
       "117                 2493    1/26/19  Offer Response Pending\n",
       "118                 2543     2/6/19  Offer Response Pending\n",
       "119                 2556   12/28/18  Offer Response Pending\n",
       "120                 2475     2/5/19  Offer Response Pending\n",
       "121                 2480     2/9/19  Offer Response Pending\n",
       "122                 2486    1/17/19  Offer Response Pending\n",
       "123                 2468   12/15/18  Offer Response Pending\n",
       "124                 2510    1/28/19  Offer Response Pending"
      ]
     },
     "execution_count": 24,
     "metadata": {},
     "output_type": "execute_result"
    }
   ],
   "source": [
    "# Check rows where offer decision is something other than accept or decline\n",
    "os[os['Offer Decision'] == 'Offer Response Pending']"
   ]
  },
  {
   "cell_type": "code",
   "execution_count": 25,
   "metadata": {},
   "outputs": [],
   "source": [
    "# Drop offer decision values that are not accept or decline because they are unnessecary for modeling\n",
    "os.drop(os.index[113:], inplace=True)"
   ]
  },
  {
   "cell_type": "code",
   "execution_count": 26,
   "metadata": {},
   "outputs": [],
   "source": [
    "# Binarize categorical column to be used for modeling\n",
    "os['Offer Decision'] = os['Offer Decision'].map(lambda x: 1 if x == 'Offer Accepted' else 0)"
   ]
  },
  {
   "cell_type": "code",
   "execution_count": 27,
   "metadata": {},
   "outputs": [
    {
     "data": {
      "text/html": [
       "<div>\n",
       "<style scoped>\n",
       "    .dataframe tbody tr th:only-of-type {\n",
       "        vertical-align: middle;\n",
       "    }\n",
       "\n",
       "    .dataframe tbody tr th {\n",
       "        vertical-align: top;\n",
       "    }\n",
       "\n",
       "    .dataframe thead th {\n",
       "        text-align: right;\n",
       "    }\n",
       "</style>\n",
       "<table border=\"1\" class=\"dataframe\">\n",
       "  <thead>\n",
       "    <tr style=\"text-align: right;\">\n",
       "      <th></th>\n",
       "      <th>Candidate ID Number</th>\n",
       "      <th>Offer Date</th>\n",
       "      <th>Offer Decision</th>\n",
       "    </tr>\n",
       "  </thead>\n",
       "  <tbody>\n",
       "    <tr>\n",
       "      <th>108</th>\n",
       "      <td>4545</td>\n",
       "      <td>11/4/18</td>\n",
       "      <td>0</td>\n",
       "    </tr>\n",
       "    <tr>\n",
       "      <th>109</th>\n",
       "      <td>3791</td>\n",
       "      <td>11/22/17</td>\n",
       "      <td>0</td>\n",
       "    </tr>\n",
       "    <tr>\n",
       "      <th>110</th>\n",
       "      <td>4811</td>\n",
       "      <td>11/8/17</td>\n",
       "      <td>0</td>\n",
       "    </tr>\n",
       "    <tr>\n",
       "      <th>111</th>\n",
       "      <td>4061</td>\n",
       "      <td>1/15/19</td>\n",
       "      <td>0</td>\n",
       "    </tr>\n",
       "    <tr>\n",
       "      <th>112</th>\n",
       "      <td>4005</td>\n",
       "      <td>1/9/17</td>\n",
       "      <td>0</td>\n",
       "    </tr>\n",
       "  </tbody>\n",
       "</table>\n",
       "</div>"
      ],
      "text/plain": [
       "     Candidate ID Number Offer Date  Offer Decision\n",
       "108                 4545    11/4/18               0\n",
       "109                 3791   11/22/17               0\n",
       "110                 4811    11/8/17               0\n",
       "111                 4061    1/15/19               0\n",
       "112                 4005     1/9/17               0"
      ]
     },
     "execution_count": 27,
     "metadata": {},
     "output_type": "execute_result"
    }
   ],
   "source": [
    "# Check to see the drop and binarization was successful\n",
    "os.tail()"
   ]
  },
  {
   "cell_type": "code",
   "execution_count": 28,
   "metadata": {
    "scrolled": false
   },
   "outputs": [
    {
     "data": {
      "text/html": [
       "<div>\n",
       "<style scoped>\n",
       "    .dataframe tbody tr th:only-of-type {\n",
       "        vertical-align: middle;\n",
       "    }\n",
       "\n",
       "    .dataframe tbody tr th {\n",
       "        vertical-align: top;\n",
       "    }\n",
       "\n",
       "    .dataframe thead th {\n",
       "        text-align: right;\n",
       "    }\n",
       "</style>\n",
       "<table border=\"1\" class=\"dataframe\">\n",
       "  <thead>\n",
       "    <tr style=\"text-align: right;\">\n",
       "      <th></th>\n",
       "      <th>Candidate ID Number</th>\n",
       "      <th>Offer Date</th>\n",
       "      <th>Offer Decision</th>\n",
       "    </tr>\n",
       "  </thead>\n",
       "  <tbody>\n",
       "  </tbody>\n",
       "</table>\n",
       "</div>"
      ],
      "text/plain": [
       "Empty DataFrame\n",
       "Columns: [Candidate ID Number, Offer Date, Offer Decision]\n",
       "Index: []"
      ]
     },
     "execution_count": 28,
     "metadata": {},
     "output_type": "execute_result"
    }
   ],
   "source": [
    "os[os.duplicated()]"
   ]
  },
  {
   "cell_type": "markdown",
   "metadata": {},
   "source": [
    "**There are no duplicates of data.**"
   ]
  },
  {
   "cell_type": "markdown",
   "metadata": {},
   "source": [
    "## Merge and Clean Dataframes "
   ]
  },
  {
   "cell_type": "code",
   "execution_count": 29,
   "metadata": {
    "scrolled": false
   },
   "outputs": [],
   "source": [
    "# Join both dataframes on the Candidate ID Number\n",
    "df_join = pd.merge(left=ra, right=os, how='outer')"
   ]
  },
  {
   "cell_type": "code",
   "execution_count": 30,
   "metadata": {
    "scrolled": false
   },
   "outputs": [],
   "source": [
    "# Create a new dataframe variable that contains the joined dataframed with null values dropped\n",
    "model_df = df_join.dropna()"
   ]
  },
  {
   "cell_type": "code",
   "execution_count": 31,
   "metadata": {},
   "outputs": [],
   "source": [
    "# Reset index of the dataframe and drop unnessecary columns\n",
    "model_df.reset_index(inplace=True)\n",
    "model_df.drop('index', axis=1, inplace=True)"
   ]
  },
  {
   "cell_type": "markdown",
   "metadata": {},
   "source": [
    "**Now that the dataframe we will use to model is prepared, a new feature, `Date Range`, will be engineered which will be an important variable necessary for the model. This variable will indicate the number of days between the Date of Application and the Offer Date.**"
   ]
  },
  {
   "cell_type": "code",
   "execution_count": 32,
   "metadata": {},
   "outputs": [],
   "source": [
    "# Convert the Date of Application and Offer Date into datetime objects\n",
    "model_df['Date of Application'] = pd.to_datetime(model_df['Date of Application'])\n",
    "model_df['Offer Date'] = pd.to_datetime(model_df['Offer Date'])"
   ]
  },
  {
   "cell_type": "code",
   "execution_count": 33,
   "metadata": {},
   "outputs": [],
   "source": [
    "# Create new `Date Range` variable\n",
    "model_df['Date Range'] = model_df['Offer Date'] - model_df['Date of Application']"
   ]
  },
  {
   "cell_type": "code",
   "execution_count": 34,
   "metadata": {
    "scrolled": false
   },
   "outputs": [
    {
     "data": {
      "text/html": [
       "<div>\n",
       "<style scoped>\n",
       "    .dataframe tbody tr th:only-of-type {\n",
       "        vertical-align: middle;\n",
       "    }\n",
       "\n",
       "    .dataframe tbody tr th {\n",
       "        vertical-align: top;\n",
       "    }\n",
       "\n",
       "    .dataframe thead th {\n",
       "        text-align: right;\n",
       "    }\n",
       "</style>\n",
       "<table border=\"1\" class=\"dataframe\">\n",
       "  <thead>\n",
       "    <tr style=\"text-align: right;\">\n",
       "      <th></th>\n",
       "      <th>Candidate ID Number</th>\n",
       "      <th>Position Title</th>\n",
       "      <th>Department</th>\n",
       "      <th>Furthest Recruiting Stage Reached</th>\n",
       "      <th>Date of Application</th>\n",
       "      <th>Application Source</th>\n",
       "      <th>Highest Degree</th>\n",
       "      <th>Years of Experience</th>\n",
       "      <th>Candidate Type</th>\n",
       "      <th>Offer Date</th>\n",
       "      <th>Offer Decision</th>\n",
       "      <th>Date Range</th>\n",
       "    </tr>\n",
       "  </thead>\n",
       "  <tbody>\n",
       "    <tr>\n",
       "      <th>0</th>\n",
       "      <td>2570</td>\n",
       "      <td>Associate Software Developer</td>\n",
       "      <td>0.0</td>\n",
       "      <td>2.0</td>\n",
       "      <td>2016-01-05</td>\n",
       "      <td>0.0</td>\n",
       "      <td>0.0</td>\n",
       "      <td>0.0</td>\n",
       "      <td>0.0</td>\n",
       "      <td>2016-02-14</td>\n",
       "      <td>1.0</td>\n",
       "      <td>40 days</td>\n",
       "    </tr>\n",
       "    <tr>\n",
       "      <th>1</th>\n",
       "      <td>2585</td>\n",
       "      <td>Associate Software Developer</td>\n",
       "      <td>0.0</td>\n",
       "      <td>2.0</td>\n",
       "      <td>2017-09-09</td>\n",
       "      <td>2.0</td>\n",
       "      <td>0.0</td>\n",
       "      <td>0.0</td>\n",
       "      <td>0.0</td>\n",
       "      <td>2017-10-20</td>\n",
       "      <td>1.0</td>\n",
       "      <td>41 days</td>\n",
       "    </tr>\n",
       "    <tr>\n",
       "      <th>2</th>\n",
       "      <td>2601</td>\n",
       "      <td>Associate Relationship Manager</td>\n",
       "      <td>5.0</td>\n",
       "      <td>2.0</td>\n",
       "      <td>2018-12-12</td>\n",
       "      <td>0.0</td>\n",
       "      <td>1.0</td>\n",
       "      <td>2.0</td>\n",
       "      <td>0.0</td>\n",
       "      <td>2019-01-11</td>\n",
       "      <td>1.0</td>\n",
       "      <td>30 days</td>\n",
       "    </tr>\n",
       "    <tr>\n",
       "      <th>3</th>\n",
       "      <td>2618</td>\n",
       "      <td>Associate Software Developer</td>\n",
       "      <td>0.0</td>\n",
       "      <td>2.0</td>\n",
       "      <td>2018-12-02</td>\n",
       "      <td>0.0</td>\n",
       "      <td>0.0</td>\n",
       "      <td>0.0</td>\n",
       "      <td>0.0</td>\n",
       "      <td>2019-01-04</td>\n",
       "      <td>1.0</td>\n",
       "      <td>33 days</td>\n",
       "    </tr>\n",
       "    <tr>\n",
       "      <th>4</th>\n",
       "      <td>2636</td>\n",
       "      <td>Associate Relationship Manager</td>\n",
       "      <td>5.0</td>\n",
       "      <td>2.0</td>\n",
       "      <td>2017-11-01</td>\n",
       "      <td>3.0</td>\n",
       "      <td>2.0</td>\n",
       "      <td>0.0</td>\n",
       "      <td>0.0</td>\n",
       "      <td>2017-12-05</td>\n",
       "      <td>1.0</td>\n",
       "      <td>34 days</td>\n",
       "    </tr>\n",
       "  </tbody>\n",
       "</table>\n",
       "</div>"
      ],
      "text/plain": [
       "   Candidate ID Number                  Position Title  Department  \\\n",
       "0                 2570    Associate Software Developer         0.0   \n",
       "1                 2585    Associate Software Developer         0.0   \n",
       "2                 2601  Associate Relationship Manager         5.0   \n",
       "3                 2618    Associate Software Developer         0.0   \n",
       "4                 2636  Associate Relationship Manager         5.0   \n",
       "\n",
       "   Furthest Recruiting Stage Reached Date of Application  Application Source  \\\n",
       "0                                2.0          2016-01-05                 0.0   \n",
       "1                                2.0          2017-09-09                 2.0   \n",
       "2                                2.0          2018-12-12                 0.0   \n",
       "3                                2.0          2018-12-02                 0.0   \n",
       "4                                2.0          2017-11-01                 3.0   \n",
       "\n",
       "   Highest Degree  Years of Experience  Candidate Type Offer Date  \\\n",
       "0             0.0                  0.0             0.0 2016-02-14   \n",
       "1             0.0                  0.0             0.0 2017-10-20   \n",
       "2             1.0                  2.0             0.0 2019-01-11   \n",
       "3             0.0                  0.0             0.0 2019-01-04   \n",
       "4             2.0                  0.0             0.0 2017-12-05   \n",
       "\n",
       "   Offer Decision Date Range  \n",
       "0             1.0    40 days  \n",
       "1             1.0    41 days  \n",
       "2             1.0    30 days  \n",
       "3             1.0    33 days  \n",
       "4             1.0    34 days  "
      ]
     },
     "execution_count": 34,
     "metadata": {},
     "output_type": "execute_result"
    }
   ],
   "source": [
    "# Check to see the new variable has been created\n",
    "model_df.head()"
   ]
  },
  {
   "cell_type": "code",
   "execution_count": 35,
   "metadata": {
    "scrolled": true
   },
   "outputs": [
    {
     "data": {
      "text/plain": [
       "Candidate ID Number                            int64\n",
       "Position Title                                object\n",
       "Department                                   float64\n",
       "Furthest Recruiting Stage Reached            float64\n",
       "Date of Application                   datetime64[ns]\n",
       "Application Source                           float64\n",
       "Highest Degree                               float64\n",
       "Years of Experience                          float64\n",
       "Candidate Type                               float64\n",
       "Offer Date                            datetime64[ns]\n",
       "Offer Decision                               float64\n",
       "Date Range                           timedelta64[ns]\n",
       "dtype: object"
      ]
     },
     "execution_count": 35,
     "metadata": {},
     "output_type": "execute_result"
    }
   ],
   "source": [
    "# The float64 and Date Range variables need to be converted back to an integer in order to be used for modeling\n",
    "model_df.dtypes"
   ]
  },
  {
   "cell_type": "code",
   "execution_count": 36,
   "metadata": {},
   "outputs": [],
   "source": [
    "# Show only the number of days, removing the word 'days'\n",
    "model_df['Date Range'] = [i.days for i in model_df['Date Range']]"
   ]
  },
  {
   "cell_type": "code",
   "execution_count": 37,
   "metadata": {},
   "outputs": [],
   "source": [
    "# Change float and Data Range columns to integer datatypes\n",
    "model_df[['Department', \n",
    "          'Furthest Recruiting Stage Reached',\n",
    "          'Application Source',\n",
    "          'Highest Degree',\n",
    "          'Years of Experience',\n",
    "          'Candidate Type',\n",
    "          'Offer Decision',\n",
    "          'Date Range']] = model_df[['Department', \n",
    "                                     'Furthest Recruiting Stage Reached',\n",
    "                                     'Application Source',\n",
    "                                     'Highest Degree',\n",
    "                                     'Years of Experience',\n",
    "                                     'Candidate Type',\n",
    "                                     'Offer Decision',\n",
    "                                     'Date Range']].applymap(np.int64)"
   ]
  },
  {
   "cell_type": "code",
   "execution_count": 38,
   "metadata": {},
   "outputs": [
    {
     "data": {
      "text/plain": [
       "Candidate ID Number                           int64\n",
       "Position Title                               object\n",
       "Department                                    int64\n",
       "Furthest Recruiting Stage Reached             int64\n",
       "Date of Application                  datetime64[ns]\n",
       "Application Source                            int64\n",
       "Highest Degree                                int64\n",
       "Years of Experience                           int64\n",
       "Candidate Type                                int64\n",
       "Offer Date                           datetime64[ns]\n",
       "Offer Decision                                int64\n",
       "Date Range                                    int64\n",
       "dtype: object"
      ]
     },
     "execution_count": 38,
     "metadata": {},
     "output_type": "execute_result"
    }
   ],
   "source": [
    "# All columns are now their correct datatype\n",
    "model_df.dtypes"
   ]
  },
  {
   "cell_type": "code",
   "execution_count": 39,
   "metadata": {},
   "outputs": [
    {
     "data": {
      "text/html": [
       "<div>\n",
       "<style scoped>\n",
       "    .dataframe tbody tr th:only-of-type {\n",
       "        vertical-align: middle;\n",
       "    }\n",
       "\n",
       "    .dataframe tbody tr th {\n",
       "        vertical-align: top;\n",
       "    }\n",
       "\n",
       "    .dataframe thead th {\n",
       "        text-align: right;\n",
       "    }\n",
       "</style>\n",
       "<table border=\"1\" class=\"dataframe\">\n",
       "  <thead>\n",
       "    <tr style=\"text-align: right;\">\n",
       "      <th></th>\n",
       "      <th>Candidate ID Number</th>\n",
       "      <th>Position Title</th>\n",
       "      <th>Department</th>\n",
       "      <th>Furthest Recruiting Stage Reached</th>\n",
       "      <th>Date of Application</th>\n",
       "      <th>Application Source</th>\n",
       "      <th>Highest Degree</th>\n",
       "      <th>Years of Experience</th>\n",
       "      <th>Candidate Type</th>\n",
       "      <th>Offer Date</th>\n",
       "      <th>Offer Decision</th>\n",
       "      <th>Date Range</th>\n",
       "    </tr>\n",
       "  </thead>\n",
       "  <tbody>\n",
       "    <tr>\n",
       "      <th>0</th>\n",
       "      <td>2570</td>\n",
       "      <td>Associate Software Developer</td>\n",
       "      <td>0</td>\n",
       "      <td>2</td>\n",
       "      <td>2016-01-05</td>\n",
       "      <td>0</td>\n",
       "      <td>0</td>\n",
       "      <td>0</td>\n",
       "      <td>0</td>\n",
       "      <td>2016-02-14</td>\n",
       "      <td>1</td>\n",
       "      <td>40</td>\n",
       "    </tr>\n",
       "    <tr>\n",
       "      <th>1</th>\n",
       "      <td>2585</td>\n",
       "      <td>Associate Software Developer</td>\n",
       "      <td>0</td>\n",
       "      <td>2</td>\n",
       "      <td>2017-09-09</td>\n",
       "      <td>2</td>\n",
       "      <td>0</td>\n",
       "      <td>0</td>\n",
       "      <td>0</td>\n",
       "      <td>2017-10-20</td>\n",
       "      <td>1</td>\n",
       "      <td>41</td>\n",
       "    </tr>\n",
       "    <tr>\n",
       "      <th>2</th>\n",
       "      <td>2601</td>\n",
       "      <td>Associate Relationship Manager</td>\n",
       "      <td>5</td>\n",
       "      <td>2</td>\n",
       "      <td>2018-12-12</td>\n",
       "      <td>0</td>\n",
       "      <td>1</td>\n",
       "      <td>2</td>\n",
       "      <td>0</td>\n",
       "      <td>2019-01-11</td>\n",
       "      <td>1</td>\n",
       "      <td>30</td>\n",
       "    </tr>\n",
       "    <tr>\n",
       "      <th>3</th>\n",
       "      <td>2618</td>\n",
       "      <td>Associate Software Developer</td>\n",
       "      <td>0</td>\n",
       "      <td>2</td>\n",
       "      <td>2018-12-02</td>\n",
       "      <td>0</td>\n",
       "      <td>0</td>\n",
       "      <td>0</td>\n",
       "      <td>0</td>\n",
       "      <td>2019-01-04</td>\n",
       "      <td>1</td>\n",
       "      <td>33</td>\n",
       "    </tr>\n",
       "    <tr>\n",
       "      <th>4</th>\n",
       "      <td>2636</td>\n",
       "      <td>Associate Relationship Manager</td>\n",
       "      <td>5</td>\n",
       "      <td>2</td>\n",
       "      <td>2017-11-01</td>\n",
       "      <td>3</td>\n",
       "      <td>2</td>\n",
       "      <td>0</td>\n",
       "      <td>0</td>\n",
       "      <td>2017-12-05</td>\n",
       "      <td>1</td>\n",
       "      <td>34</td>\n",
       "    </tr>\n",
       "  </tbody>\n",
       "</table>\n",
       "</div>"
      ],
      "text/plain": [
       "   Candidate ID Number                  Position Title  Department  \\\n",
       "0                 2570    Associate Software Developer           0   \n",
       "1                 2585    Associate Software Developer           0   \n",
       "2                 2601  Associate Relationship Manager           5   \n",
       "3                 2618    Associate Software Developer           0   \n",
       "4                 2636  Associate Relationship Manager           5   \n",
       "\n",
       "   Furthest Recruiting Stage Reached Date of Application  Application Source  \\\n",
       "0                                  2          2016-01-05                   0   \n",
       "1                                  2          2017-09-09                   2   \n",
       "2                                  2          2018-12-12                   0   \n",
       "3                                  2          2018-12-02                   0   \n",
       "4                                  2          2017-11-01                   3   \n",
       "\n",
       "   Highest Degree  Years of Experience  Candidate Type Offer Date  \\\n",
       "0               0                    0               0 2016-02-14   \n",
       "1               0                    0               0 2017-10-20   \n",
       "2               1                    2               0 2019-01-11   \n",
       "3               0                    0               0 2019-01-04   \n",
       "4               2                    0               0 2017-12-05   \n",
       "\n",
       "   Offer Decision  Date Range  \n",
       "0               1          40  \n",
       "1               1          41  \n",
       "2               1          30  \n",
       "3               1          33  \n",
       "4               1          34  "
      ]
     },
     "execution_count": 39,
     "metadata": {},
     "output_type": "execute_result"
    }
   ],
   "source": [
    "# Inspect that the dataframe is clean for modeling\n",
    "model_df.head()"
   ]
  },
  {
   "cell_type": "code",
   "execution_count": 52,
   "metadata": {},
   "outputs": [
    {
     "name": "stdout",
     "output_type": "stream",
     "text": [
      "50.0  days\n"
     ]
    }
   ],
   "source": [
    "# The average time in days our recruiting process is \n",
    "print(round(np.mean(model_df['Date Range'])), ' days')"
   ]
  },
  {
   "cell_type": "markdown",
   "metadata": {},
   "source": [
    "## Modeling - Linear Regression"
   ]
  },
  {
   "cell_type": "code",
   "execution_count": 40,
   "metadata": {},
   "outputs": [],
   "source": [
    "'''\n",
    "Set up X and y variables which will be used for modeling.\n",
    "A Linear Regression model will be built because it allows for interpretability of results and coefficients.\n",
    "'''\n",
    "features = model_df.columns.drop(['Candidate ID Number', 'Position Title', 'Date of Application',\n",
    "                                  'Offer Date', 'Offer Decision'])\n",
    "X = model_df[features]\n",
    "y = model_df['Offer Decision']"
   ]
  },
  {
   "cell_type": "code",
   "execution_count": 41,
   "metadata": {},
   "outputs": [],
   "source": [
    "'''\n",
    "Set up training and testing sets.\n",
    "Not many applications had an accompanying offer decision therefore the train and test sets will be small.\n",
    "Although this is not ideal for modeling, for the purpose of this exercise it will do.\n",
    "'''\n",
    "X_train, X_test, y_train, y_test = train_test_split(X, y, test_size=0.3, random_state=42)"
   ]
  },
  {
   "cell_type": "code",
   "execution_count": 42,
   "metadata": {},
   "outputs": [
    {
     "data": {
      "text/plain": [
       "0.04205181229721955"
      ]
     },
     "execution_count": 42,
     "metadata": {},
     "output_type": "execute_result"
    }
   ],
   "source": [
    "# Build the model\n",
    "lr = LinearRegression()\n",
    "\n",
    "# Fit the model\n",
    "lr.fit(X_train, y_train)\n",
    "\n",
    "# Score the model\n",
    "lr.score(X_test, y_test)"
   ]
  },
  {
   "cell_type": "markdown",
   "metadata": {},
   "source": [
    "**The model's R^2 value is .42 which means the explanatory power of the model is not strong, but for this study, the strength of the model is not the main focus. We want to see the degree of influence the Date Range variable has on the model so we care more about the variable's coefficients.**"
   ]
  },
  {
   "cell_type": "code",
   "execution_count": 43,
   "metadata": {},
   "outputs": [
    {
     "data": {
      "text/plain": [
       "array([ 5.18209891e-03, -5.37764278e-17, -1.14343134e-02, -2.18350614e-03,\n",
       "        1.89109537e-02, -4.35867855e-02, -6.86849683e-03])"
      ]
     },
     "execution_count": 43,
     "metadata": {},
     "output_type": "execute_result"
    }
   ],
   "source": [
    "# Examine the coefficients for each variable\n",
    "lr.coef_"
   ]
  },
  {
   "cell_type": "code",
   "execution_count": 44,
   "metadata": {},
   "outputs": [
    {
     "data": {
      "text/html": [
       "<div>\n",
       "<style scoped>\n",
       "    .dataframe tbody tr th:only-of-type {\n",
       "        vertical-align: middle;\n",
       "    }\n",
       "\n",
       "    .dataframe tbody tr th {\n",
       "        vertical-align: top;\n",
       "    }\n",
       "\n",
       "    .dataframe thead th {\n",
       "        text-align: right;\n",
       "    }\n",
       "</style>\n",
       "<table border=\"1\" class=\"dataframe\">\n",
       "  <thead>\n",
       "    <tr style=\"text-align: right;\">\n",
       "      <th></th>\n",
       "      <th>coefficients</th>\n",
       "    </tr>\n",
       "  </thead>\n",
       "  <tbody>\n",
       "    <tr>\n",
       "      <th>Department</th>\n",
       "      <td>0.01</td>\n",
       "    </tr>\n",
       "    <tr>\n",
       "      <th>Furthest Recruiting Stage Reached</th>\n",
       "      <td>-0.00</td>\n",
       "    </tr>\n",
       "    <tr>\n",
       "      <th>Application Source</th>\n",
       "      <td>-0.01</td>\n",
       "    </tr>\n",
       "    <tr>\n",
       "      <th>Highest Degree</th>\n",
       "      <td>-0.00</td>\n",
       "    </tr>\n",
       "    <tr>\n",
       "      <th>Years of Experience</th>\n",
       "      <td>0.02</td>\n",
       "    </tr>\n",
       "    <tr>\n",
       "      <th>Candidate Type</th>\n",
       "      <td>-0.04</td>\n",
       "    </tr>\n",
       "    <tr>\n",
       "      <th>Date Range</th>\n",
       "      <td>-0.01</td>\n",
       "    </tr>\n",
       "  </tbody>\n",
       "</table>\n",
       "</div>"
      ],
      "text/plain": [
       "                                   coefficients\n",
       "Department                                 0.01\n",
       "Furthest Recruiting Stage Reached         -0.00\n",
       "Application Source                        -0.01\n",
       "Highest Degree                            -0.00\n",
       "Years of Experience                        0.02\n",
       "Candidate Type                            -0.04\n",
       "Date Range                                -0.01"
      ]
     },
     "execution_count": 44,
     "metadata": {},
     "output_type": "execute_result"
    }
   ],
   "source": [
    "# Set coefficients to a variable\n",
    "coefficients = lr.coef_\n",
    "\n",
    "# Create a dataframe to see the coefficients beside its respective variable\n",
    "coef_df = pd.DataFrame(coefficients, columns=['coefficients'], index=features)\n",
    "# Round all values to 2 decimal places\n",
    "coef_df.round(2)"
   ]
  },
  {
   "cell_type": "markdown",
   "metadata": {},
   "source": [
    "**The dataframe shows that the Date Range has a negative coefficient. The coefficient can be interepreted as when days in the recruiting process increases by 1 day, the offer acceptance rate decreases by 0.01%**"
   ]
  },
  {
   "cell_type": "markdown",
   "metadata": {},
   "source": [
    "## Modeling - Statsmodel"
   ]
  },
  {
   "cell_type": "markdown",
   "metadata": {},
   "source": [
    "**Create null and alternative hypotheses for the statsmodel.**"
   ]
  },
  {
   "cell_type": "markdown",
   "metadata": {},
   "source": [
    "$H_{0}$ (Null Hypothesis): There is no relationship between the longevity of the hiring process and offer acceptance rates.\n",
    "\n",
    "$H_{A}$ (Alternative Hypothesis}: There is a relationship between the longevity of the hiring process and offer acceptance rates."
   ]
  },
  {
   "cell_type": "code",
   "execution_count": 45,
   "metadata": {},
   "outputs": [
    {
     "data": {
      "text/html": [
       "<table class=\"simpletable\">\n",
       "<caption>OLS Regression Results</caption>\n",
       "<tr>\n",
       "  <th>Dep. Variable:</th>     <td>Offer Decision</td>  <th>  R-squared:         </th> <td>   0.109</td>\n",
       "</tr>\n",
       "<tr>\n",
       "  <th>Model:</th>                   <td>OLS</td>       <th>  Adj. R-squared:    </th> <td>   0.058</td>\n",
       "</tr>\n",
       "<tr>\n",
       "  <th>Method:</th>             <td>Least Squares</td>  <th>  F-statistic:       </th> <td>   2.134</td>\n",
       "</tr>\n",
       "<tr>\n",
       "  <th>Date:</th>             <td>Thu, 21 Mar 2019</td> <th>  Prob (F-statistic):</th>  <td>0.0555</td> \n",
       "</tr>\n",
       "<tr>\n",
       "  <th>Time:</th>                 <td>10:26:38</td>     <th>  Log-Likelihood:    </th> <td> -72.642</td>\n",
       "</tr>\n",
       "<tr>\n",
       "  <th>No. Observations:</th>      <td>   112</td>      <th>  AIC:               </th> <td>   159.3</td>\n",
       "</tr>\n",
       "<tr>\n",
       "  <th>Df Residuals:</th>          <td>   105</td>      <th>  BIC:               </th> <td>   178.3</td>\n",
       "</tr>\n",
       "<tr>\n",
       "  <th>Df Model:</th>              <td>     6</td>      <th>                     </th>     <td> </td>   \n",
       "</tr>\n",
       "<tr>\n",
       "  <th>Covariance Type:</th>      <td>nonrobust</td>    <th>                     </th>     <td> </td>   \n",
       "</tr>\n",
       "</table>\n",
       "<table class=\"simpletable\">\n",
       "<tr>\n",
       "                  <td></td>                     <th>coef</th>     <th>std err</th>      <th>t</th>      <th>P>|t|</th>  <th>[0.025</th>    <th>0.975]</th>  \n",
       "</tr>\n",
       "<tr>\n",
       "  <th>Department</th>                        <td>    0.0147</td> <td>    0.024</td> <td>    0.625</td> <td> 0.533</td> <td>   -0.032</td> <td>    0.061</td>\n",
       "</tr>\n",
       "<tr>\n",
       "  <th>Furthest Recruiting Stage Reached</th> <td>    0.4886</td> <td>    0.076</td> <td>    6.460</td> <td> 0.000</td> <td>    0.339</td> <td>    0.639</td>\n",
       "</tr>\n",
       "<tr>\n",
       "  <th>Application Source</th>                <td>    0.0028</td> <td>    0.024</td> <td>    0.119</td> <td> 0.905</td> <td>   -0.044</td> <td>    0.050</td>\n",
       "</tr>\n",
       "<tr>\n",
       "  <th>Highest Degree</th>                    <td>    0.0124</td> <td>    0.039</td> <td>    0.317</td> <td> 0.752</td> <td>   -0.065</td> <td>    0.090</td>\n",
       "</tr>\n",
       "<tr>\n",
       "  <th>Years of Experience</th>               <td>   -0.0017</td> <td>    0.025</td> <td>   -0.067</td> <td> 0.947</td> <td>   -0.052</td> <td>    0.048</td>\n",
       "</tr>\n",
       "<tr>\n",
       "  <th>Candidate Type</th>                    <td>   -0.0100</td> <td>    0.221</td> <td>   -0.045</td> <td> 0.964</td> <td>   -0.449</td> <td>    0.429</td>\n",
       "</tr>\n",
       "<tr>\n",
       "  <th>Date Range</th>                        <td>   -0.0085</td> <td>    0.002</td> <td>   -3.424</td> <td> 0.001</td> <td>   -0.013</td> <td>   -0.004</td>\n",
       "</tr>\n",
       "</table>\n",
       "<table class=\"simpletable\">\n",
       "<tr>\n",
       "  <th>Omnibus:</th>       <td>114.748</td> <th>  Durbin-Watson:     </th> <td>   1.080</td>\n",
       "</tr>\n",
       "<tr>\n",
       "  <th>Prob(Omnibus):</th> <td> 0.000</td>  <th>  Jarque-Bera (JB):  </th> <td>   9.995</td>\n",
       "</tr>\n",
       "<tr>\n",
       "  <th>Skew:</th>          <td>-0.231</td>  <th>  Prob(JB):          </th> <td> 0.00675</td>\n",
       "</tr>\n",
       "<tr>\n",
       "  <th>Kurtosis:</th>      <td> 1.611</td>  <th>  Cond. No.          </th> <td>    265.</td>\n",
       "</tr>\n",
       "</table><br/><br/>Warnings:<br/>[1] Standard Errors assume that the covariance matrix of the errors is correctly specified."
      ],
      "text/plain": [
       "<class 'statsmodels.iolib.summary.Summary'>\n",
       "\"\"\"\n",
       "                            OLS Regression Results                            \n",
       "==============================================================================\n",
       "Dep. Variable:         Offer Decision   R-squared:                       0.109\n",
       "Model:                            OLS   Adj. R-squared:                  0.058\n",
       "Method:                 Least Squares   F-statistic:                     2.134\n",
       "Date:                Thu, 21 Mar 2019   Prob (F-statistic):             0.0555\n",
       "Time:                        10:26:38   Log-Likelihood:                -72.642\n",
       "No. Observations:                 112   AIC:                             159.3\n",
       "Df Residuals:                     105   BIC:                             178.3\n",
       "Df Model:                           6                                         \n",
       "Covariance Type:            nonrobust                                         \n",
       "=====================================================================================================\n",
       "                                        coef    std err          t      P>|t|      [0.025      0.975]\n",
       "-----------------------------------------------------------------------------------------------------\n",
       "Department                            0.0147      0.024      0.625      0.533      -0.032       0.061\n",
       "Furthest Recruiting Stage Reached     0.4886      0.076      6.460      0.000       0.339       0.639\n",
       "Application Source                    0.0028      0.024      0.119      0.905      -0.044       0.050\n",
       "Highest Degree                        0.0124      0.039      0.317      0.752      -0.065       0.090\n",
       "Years of Experience                  -0.0017      0.025     -0.067      0.947      -0.052       0.048\n",
       "Candidate Type                       -0.0100      0.221     -0.045      0.964      -0.449       0.429\n",
       "Date Range                           -0.0085      0.002     -3.424      0.001      -0.013      -0.004\n",
       "==============================================================================\n",
       "Omnibus:                      114.748   Durbin-Watson:                   1.080\n",
       "Prob(Omnibus):                  0.000   Jarque-Bera (JB):                9.995\n",
       "Skew:                          -0.231   Prob(JB):                      0.00675\n",
       "Kurtosis:                       1.611   Cond. No.                         265.\n",
       "==============================================================================\n",
       "\n",
       "Warnings:\n",
       "[1] Standard Errors assume that the covariance matrix of the errors is correctly specified.\n",
       "\"\"\""
      ]
     },
     "execution_count": 45,
     "metadata": {},
     "output_type": "execute_result"
    }
   ],
   "source": [
    "# Create features for the statsmodel\n",
    "X = model_df[features]\n",
    "y = model_df['Offer Decision']\n",
    "\n",
    "X = sm.add_constant(X)\n",
    "\n",
    "# Instantiate the model\n",
    "model = sm.OLS(y, X)\n",
    "# Fit the model\n",
    "results = model.fit()\n",
    "# Print a results summary for the model\n",
    "results.summary()"
   ]
  },
  {
   "cell_type": "markdown",
   "metadata": {},
   "source": [
    "**The p-value for the Date Range variable of 0.001 is lower than the alpha significance value (0.05) meaning that we can reject the null hypothesis and accept the alternative hypothesis that there is a relationship between the efficiency of the recruiting process and offer acceptance rates.**"
   ]
  },
  {
   "cell_type": "markdown",
   "metadata": {},
   "source": [
    "## Results\n",
    "### The results from the Linear Regression Model indicate that as the number of days in the recruiting process increases, the offer acceptance rate decreases by a small amount. The results summary from the Statsmodel indicates that there is a relationship between the length of the recruiting process and offer acceptance rates."
   ]
  },
  {
   "cell_type": "code",
   "execution_count": 57,
   "metadata": {},
   "outputs": [
    {
     "name": "stdout",
     "output_type": "stream",
     "text": [
      "[NbConvertApp] Converting notebook Human_Capital_Analytics_Case_Study.ipynb to html\n",
      "[NbConvertApp] Writing 356525 bytes to Human_Capital_Analytics_Case_Study.html\n"
     ]
    }
   ],
   "source": [
    "!jupyter nbconvert Human_Capital_Analytics_Case_Study.ipynb --to html"
   ]
  },
  {
   "cell_type": "code",
   "execution_count": null,
   "metadata": {},
   "outputs": [],
   "source": []
  }
 ],
 "metadata": {
  "kernelspec": {
   "display_name": "Python 3",
   "language": "python",
   "name": "python3"
  },
  "language_info": {
   "codemirror_mode": {
    "name": "ipython",
    "version": 3
   },
   "file_extension": ".py",
   "mimetype": "text/x-python",
   "name": "python",
   "nbconvert_exporter": "python",
   "pygments_lexer": "ipython3",
   "version": "3.6.8"
  }
 },
 "nbformat": 4,
 "nbformat_minor": 2
}
